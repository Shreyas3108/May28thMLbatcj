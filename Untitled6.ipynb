{
  "nbformat": 4,
  "nbformat_minor": 0,
  "metadata": {
    "colab": {
      "name": "Untitled6.ipynb",
      "version": "0.3.2",
      "provenance": []
    },
    "kernelspec": {
      "name": "python3",
      "display_name": "Python 3"
    },
    "accelerator": "GPU"
  },
  "cells": [
    {
      "cell_type": "markdown",
      "metadata": {
        "id": "view-in-github",
        "colab_type": "text"
      },
      "source": [
        "[View in Colaboratory](https://colab.research.google.com/github/Shreyas3108/May28thMLbatcj/blob/master/Untitled6.ipynb)"
      ]
    },
    {
      "metadata": {
        "id": "CIT0yCXn3FDV",
        "colab_type": "text"
      },
      "cell_type": "markdown",
      "source": [
        "# Topic of the day : Statistics and numpy"
      ]
    },
    {
      "metadata": {
        "id": "00R2uoHW3SEt",
        "colab_type": "text"
      },
      "cell_type": "markdown",
      "source": [
        "**Importing Numpy**"
      ]
    },
    {
      "metadata": {
        "id": "JBGNKJ_Oc4yj",
        "colab_type": "code",
        "colab": {}
      },
      "cell_type": "code",
      "source": [
        "import numpy as np "
      ],
      "execution_count": 0,
      "outputs": []
    },
    {
      "metadata": {
        "id": "IKmNmWIq33d_",
        "colab_type": "text"
      },
      "cell_type": "markdown",
      "source": [
        "Defining a list. "
      ]
    },
    {
      "metadata": {
        "id": "faTKyNOmdOCd",
        "colab_type": "code",
        "colab": {}
      },
      "cell_type": "code",
      "source": [
        "b = [5 , 18 , 89 , 901 ,15.5 , 56 ,69]"
      ],
      "execution_count": 0,
      "outputs": []
    },
    {
      "metadata": {
        "id": "CX_zVY5o4JvS",
        "colab_type": "text"
      },
      "cell_type": "markdown",
      "source": [
        "Converting list to a n dimensional array. "
      ]
    },
    {
      "metadata": {
        "id": "uVBAuttbdR5C",
        "colab_type": "code",
        "colab": {}
      },
      "cell_type": "code",
      "source": [
        "x = np.array(b)"
      ],
      "execution_count": 0,
      "outputs": []
    },
    {
      "metadata": {
        "id": "2zCZibuq4N-p",
        "colab_type": "text"
      },
      "cell_type": "markdown",
      "source": [
        "Checking the type of array"
      ]
    },
    {
      "metadata": {
        "id": "FiQQV46vdYn3",
        "colab_type": "code",
        "colab": {
          "base_uri": "https://localhost:8080/",
          "height": 34
        },
        "outputId": "a29394ee-08f6-4cc3-96f8-ca47ea8e978b"
      },
      "cell_type": "code",
      "source": [
        "type(x)"
      ],
      "execution_count": 5,
      "outputs": [
        {
          "output_type": "execute_result",
          "data": {
            "text/plain": [
              "numpy.ndarray"
            ]
          },
          "metadata": {
            "tags": []
          },
          "execution_count": 5
        }
      ]
    },
    {
      "metadata": {
        "id": "k3bqzxuC4TBn",
        "colab_type": "text"
      },
      "cell_type": "markdown",
      "source": [
        "Shape and Size of the array"
      ]
    },
    {
      "metadata": {
        "id": "arcBwPoJiLex",
        "colab_type": "code",
        "colab": {
          "base_uri": "https://localhost:8080/",
          "height": 51
        },
        "outputId": "f0e22610-797c-4f29-b353-6d435a690357"
      },
      "cell_type": "code",
      "source": [
        "print(x.shape)\n",
        "print(x.size)"
      ],
      "execution_count": 6,
      "outputs": [
        {
          "output_type": "stream",
          "text": [
            "(7,)\n",
            "7\n"
          ],
          "name": "stdout"
        }
      ]
    },
    {
      "metadata": {
        "id": "BqnduzfO4efd",
        "colab_type": "text"
      },
      "cell_type": "markdown",
      "source": [
        "Create a matrix "
      ]
    },
    {
      "metadata": {
        "id": "ohrNPPNIiTVv",
        "colab_type": "code",
        "colab": {}
      },
      "cell_type": "code",
      "source": [
        "c = np.array([[1,3,4],[3,4,5],[5,6,7]])"
      ],
      "execution_count": 0,
      "outputs": []
    },
    {
      "metadata": {
        "id": "pw9jiBf-41QO",
        "colab_type": "text"
      },
      "cell_type": "markdown",
      "source": [
        "Shape and Size of the array"
      ]
    },
    {
      "metadata": {
        "id": "kgDbay4hiVoD",
        "colab_type": "code",
        "colab": {
          "base_uri": "https://localhost:8080/",
          "height": 51
        },
        "outputId": "f28e5ef4-0b41-4f75-d8f8-e697487b4a94"
      },
      "cell_type": "code",
      "source": [
        "print(c.shape)\n",
        "print(c.size)"
      ],
      "execution_count": 8,
      "outputs": [
        {
          "output_type": "stream",
          "text": [
            "(3, 3)\n",
            "9\n"
          ],
          "name": "stdout"
        }
      ]
    },
    {
      "metadata": {
        "id": "e4ZmMJGGiqUM",
        "colab_type": "code",
        "colab": {}
      },
      "cell_type": "code",
      "source": [
        "a = np.arange(15).reshape(15,1)"
      ],
      "execution_count": 0,
      "outputs": []
    },
    {
      "metadata": {
        "id": "f7QmgkmFivPL",
        "colab_type": "code",
        "colab": {
          "base_uri": "https://localhost:8080/",
          "height": 34
        },
        "outputId": "254d7ffe-2476-4e6a-ae41-9d58ae437199"
      },
      "cell_type": "code",
      "source": [
        "a.shape"
      ],
      "execution_count": 15,
      "outputs": [
        {
          "output_type": "execute_result",
          "data": {
            "text/plain": [
              "(15, 1)"
            ]
          },
          "metadata": {
            "tags": []
          },
          "execution_count": 15
        }
      ]
    },
    {
      "metadata": {
        "id": "lfco_ftajhKq",
        "colab_type": "code",
        "colab": {
          "base_uri": "https://localhost:8080/",
          "height": 34
        },
        "outputId": "17e7400b-cdfd-4524-ad9d-b00aa5799f7f"
      },
      "cell_type": "code",
      "source": [
        "a.reshape(1,15)"
      ],
      "execution_count": 20,
      "outputs": [
        {
          "output_type": "execute_result",
          "data": {
            "text/plain": [
              "array([[ 0,  1,  2,  3,  4,  5,  6,  7,  8,  9, 10, 11, 12, 13, 14]])"
            ]
          },
          "metadata": {
            "tags": []
          },
          "execution_count": 20
        }
      ]
    },
    {
      "metadata": {
        "id": "av4kHMuxjjKr",
        "colab_type": "code",
        "colab": {}
      },
      "cell_type": "code",
      "source": [
        "d = np.arange(15)"
      ],
      "execution_count": 0,
      "outputs": []
    },
    {
      "metadata": {
        "id": "dH1NYhXfj3l6",
        "colab_type": "code",
        "colab": {
          "base_uri": "https://localhost:8080/",
          "height": 34
        },
        "outputId": "48093dec-25aa-454d-a2bc-12ec2ba65df5"
      },
      "cell_type": "code",
      "source": [
        "np.random.randint(0,100)"
      ],
      "execution_count": 21,
      "outputs": [
        {
          "output_type": "execute_result",
          "data": {
            "text/plain": [
              "75"
            ]
          },
          "metadata": {
            "tags": []
          },
          "execution_count": 21
        }
      ]
    },
    {
      "metadata": {
        "id": "4oHbskHakDpC",
        "colab_type": "code",
        "colab": {}
      },
      "cell_type": "code",
      "source": [
        "b = np.random.randn(0,10)"
      ],
      "execution_count": 0,
      "outputs": []
    },
    {
      "metadata": {
        "id": "jf5Ju0Uv6dnG",
        "colab_type": "code",
        "colab": {
          "base_uri": "https://localhost:8080/",
          "height": 34
        },
        "outputId": "d89d2dfe-2a1c-4637-d2d9-3def753c5aad"
      },
      "cell_type": "code",
      "source": [
        "b.astype('float32')"
      ],
      "execution_count": 30,
      "outputs": [
        {
          "output_type": "execute_result",
          "data": {
            "text/plain": [
              "array([], shape=(0, 10), dtype=float32)"
            ]
          },
          "metadata": {
            "tags": []
          },
          "execution_count": 30
        }
      ]
    },
    {
      "metadata": {
        "id": "LVc3R5866ohH",
        "colab_type": "code",
        "colab": {
          "base_uri": "https://localhost:8080/",
          "height": 51
        },
        "outputId": "4abcad6a-270d-459e-f0fb-80677fc5a563"
      },
      "cell_type": "code",
      "source": [
        " 2.5 * np.random.randn(2, 4) + 3"
      ],
      "execution_count": 37,
      "outputs": [
        {
          "output_type": "execute_result",
          "data": {
            "text/plain": [
              "array([[ 4.55818625,  4.31188176, -0.72947196,  0.62064935],\n",
              "       [ 4.38496134,  4.00601632,  3.69387772,  0.75069552]])"
            ]
          },
          "metadata": {
            "tags": []
          },
          "execution_count": 37
        }
      ]
    },
    {
      "metadata": {
        "id": "doZBrWv-8pfl",
        "colab_type": "text"
      },
      "cell_type": "markdown",
      "source": [
        "## Question - 3"
      ]
    },
    {
      "metadata": {
        "id": "XWX0X53Z7JhU",
        "colab_type": "code",
        "colab": {
          "base_uri": "https://localhost:8080/",
          "height": 884
        },
        "outputId": "f9485e80-5c14-4374-ce22-58f8a593d603"
      },
      "cell_type": "code",
      "source": [
        "a = np.random.rand(10,20)\n",
        "b = np.random.rand(20,25)\n",
        "c = np.dot(a,b)\n",
        "print(c) \n",
        "print(c.shape)"
      ],
      "execution_count": 42,
      "outputs": [
        {
          "output_type": "stream",
          "text": [
            "[[5.65204839 5.77070941 5.46394475 6.7339616  7.74477643 4.4887392\n",
            "  4.3169298  5.71621838 6.74004853 5.09253671 5.87435897 5.20793729\n",
            "  5.52912034 5.42205644 5.69707145 6.75103536 5.36553951 6.58668222\n",
            "  6.05222317 5.41189614 5.12037361 5.41512783 4.36261816 7.28110289\n",
            "  4.67104214]\n",
            " [4.60260988 4.77442604 4.94721824 6.73508244 7.11597434 4.23865358\n",
            "  3.66850228 4.65182815 5.51959517 4.76909625 4.72663166 4.66879918\n",
            "  4.79066117 4.61227891 4.5865543  5.58385525 4.37680405 6.40209159\n",
            "  4.96140004 5.28271694 4.5930866  4.54397567 3.16247847 5.9542965\n",
            "  4.33376358]\n",
            " [3.39501617 4.70338433 3.88125156 5.19019866 5.39835544 3.92256967\n",
            "  2.12177959 3.8771     3.83415368 3.92241825 3.37218168 3.60574911\n",
            "  3.1866753  3.17608168 4.02801458 4.92925107 3.53751718 4.90961585\n",
            "  4.18909011 4.72659705 3.74189555 3.55620726 3.1793421  4.28254462\n",
            "  4.63434759]\n",
            " [3.53141157 3.83322789 3.43725561 4.26576116 5.66492193 2.90161315\n",
            "  3.41112491 3.72839916 5.02452327 4.22032834 3.8062328  4.51413375\n",
            "  4.81659054 2.85106467 3.92192028 5.18440624 4.00800859 4.70376356\n",
            "  4.12955696 4.68418291 4.34497733 4.87841755 3.00357208 4.92321005\n",
            "  3.7630689 ]\n",
            " [4.49118544 3.94434973 4.69207443 5.331693   6.14574161 4.00314609\n",
            "  2.91457763 4.38526166 5.47673798 4.24867167 4.30780844 3.96961757\n",
            "  4.27316967 3.86376311 4.60433902 6.15159417 3.5470591  5.40331639\n",
            "  4.77876088 4.21100793 4.10653087 3.83516883 3.36936317 5.36671383\n",
            "  3.42904344]\n",
            " [4.9682573  4.63357025 3.74146136 5.76064964 6.75369628 4.14752818\n",
            "  3.44515437 4.41868415 5.37854007 4.13873302 4.65171133 4.6410896\n",
            "  4.54876518 3.46779294 4.35653277 5.69955637 5.0979782  4.83803306\n",
            "  5.26076576 5.28946812 4.29683295 5.13399257 3.70331374 6.15256851\n",
            "  4.2890082 ]\n",
            " [4.04117215 3.37533853 3.37214893 4.12212195 5.21482692 3.28745168\n",
            "  2.20392751 3.82457393 4.21017762 3.36073482 3.66436857 3.73895618\n",
            "  3.70106406 3.18298399 3.56919158 5.26468508 3.04233201 3.89001764\n",
            "  3.82353892 4.12286786 2.93570712 3.32317888 3.06877775 4.58879632\n",
            "  3.04181466]\n",
            " [4.45212705 3.97529815 3.75190953 4.80358917 6.31725655 3.84763298\n",
            "  2.46691239 4.23494744 4.13553642 3.97431081 4.30455885 4.08458545\n",
            "  4.27453516 3.330813   4.22638888 6.46433031 3.77755705 4.68106961\n",
            "  4.87081986 4.69400666 3.8532464  3.71868296 3.75265722 4.86904287\n",
            "  4.44292443]\n",
            " [4.4403603  4.42419179 4.10831827 5.39917332 6.53623339 3.95348489\n",
            "  3.08563395 3.76871592 4.89048065 4.64881168 4.54587646 4.62370133\n",
            "  4.71801834 4.06921637 4.29693158 5.98985696 4.02695122 5.30264491\n",
            "  5.02682114 5.91336086 4.59714818 4.39585047 3.38186034 6.39559646\n",
            "  4.08303653]\n",
            " [4.66932476 5.05016075 4.55457685 5.66537797 6.16524482 3.79537868\n",
            "  2.74900413 4.55583857 4.83707573 4.42526805 4.42052324 4.55900409\n",
            "  4.54474824 3.76040309 4.56062307 5.65425848 3.73880888 5.21577517\n",
            "  4.4696041  5.19484971 3.69277066 4.51597778 3.53822233 5.03787266\n",
            "  4.63352964]]\n",
            "(10, 25)\n"
          ],
          "name": "stdout"
        }
      ]
    },
    {
      "metadata": {
        "id": "p2zgaXvh7Ruh",
        "colab_type": "code",
        "colab": {
          "base_uri": "https://localhost:8080/",
          "height": 34
        },
        "outputId": "78b44adf-3d1c-4dbe-af3f-777530e65a52"
      },
      "cell_type": "code",
      "source": [
        "np.exp(-1)"
      ],
      "execution_count": 43,
      "outputs": [
        {
          "output_type": "execute_result",
          "data": {
            "text/plain": [
              "0.36787944117144233"
            ]
          },
          "metadata": {
            "tags": []
          },
          "execution_count": 43
        }
      ]
    },
    {
      "metadata": {
        "id": "OFvzpNPk7UvQ",
        "colab_type": "code",
        "colab": {}
      },
      "cell_type": "code",
      "source": [
        ""
      ],
      "execution_count": 0,
      "outputs": []
    }
  ]
}